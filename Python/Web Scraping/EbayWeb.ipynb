{
 "cells": [
  {
   "cell_type": "code",
   "execution_count": 3,
   "metadata": {},
   "outputs": [],
   "source": [
    "from bs4 import BeautifulSoup\n",
    "import requests\n",
    "import time\n",
    "import datetime\n",
    "import smtplib"
   ]
  },
  {
   "cell_type": "code",
   "execution_count": 4,
   "metadata": {},
   "outputs": [
    {
     "name": "stdout",
     "output_type": "stream",
     "text": [
      "\n",
      "                 Shipping and returns\n",
      "                \n",
      "\n",
      "                 US $199.99\n",
      "                \n"
     ]
    }
   ],
   "source": [
    "url = 'https://www.ebay.com/itm/375489207530?itmmeta=01J0WSM7DGW3B615JC1VFBTD5Q&hash=item576ce69cea:g:IOwAAOSwk75mbz9I&amdata=enc%3AAQAJAAAA8DnfDLM9VqAWFnpLdAk1qW0Qg4PMGlIcVQzZXiU%2FijlF%2BrE%2B2T2V7eewbmwKdhFCpFkZDhdTBsRBzTQZbQHkLoRWr%2FbgEUmg42YRTPhFmaPspKjEpGQKZIXnBqbTnGCXPQVrjiDRq43xhiA2KrChXiq%2B%2Fno7ck2qEOd1xuk1gYOtjvPJvvTdlBvvUnPCU%2B3eQrxShvX1N78e%2B9FNEZzS76AvXTKaBB9afuR0ZLHyaqGaLfjWtJj2vzlcm7yzGIdZf6BelR8vkpkXIK%2BEs1ZWy8R9Bsd59N1jc2cGUTWKbYGeDpd5WQcxXCRzOIymolU6Kw%3D%3D%7Ctkp%3ABFBM9PbQmYdk'\n",
    "headers = {\"User-Agent\": \"Mozilla/5.0 (Windows NT 10.0; Win64; x64) AppleWebKit/537.36 (KHTML, like Gecko) Chrome/126.0.0.0 Safari/537.36\"}\n",
    "page = requests.get(url, headers=headers)\n",
    "soup1 = BeautifulSoup(page.content, 'html.parser')\n",
    "soup2 = BeautifulSoup(soup1.prettify(), 'html.parser')\n",
    "\n",
    "title = soup2.find('span', class_='ux-textspans ux-textspans--BOLD').get_text()\n",
    "print(title)\n",
    "\n",
    "for element in soup2.find_all('span', class_='ux-textspans'):\n",
    "    if 'US $' in element.text:\n",
    "        price = element.text\n",
    "        print(price)\n",
    "        break\n",
    "else:\n",
    "    print('Price not found')"
   ]
  },
  {
   "cell_type": "code",
   "execution_count": 5,
   "metadata": {},
   "outputs": [
    {
     "name": "stdout",
     "output_type": "stream",
     "text": [
      "Shipping and returns\n",
      "199.99\n"
     ]
    }
   ],
   "source": [
    "title = title.strip()\n",
    "price = price.strip()[4:]\n",
    "print(title)\n",
    "print(price)"
   ]
  },
  {
   "cell_type": "code",
   "execution_count": 6,
   "metadata": {},
   "outputs": [
    {
     "name": "stdout",
     "output_type": "stream",
     "text": [
      "2024-07-05\n"
     ]
    }
   ],
   "source": [
    "today = datetime.date.today()\n",
    "print(today)"
   ]
  },
  {
   "cell_type": "code",
   "execution_count": 7,
   "metadata": {},
   "outputs": [],
   "source": [
    "import csv\n",
    "header = ['Title', 'Price', 'Date']\n",
    "data = [title, price, today]\n",
    "\n",
    "with open('EbayWeb.csv', 'w', newline='', encoding='UTF8') as f:\n",
    "    writer = csv.writer(f)\n",
    "    writer.writerow(header)\n",
    "    writer.writerow(data)"
   ]
  },
  {
   "cell_type": "code",
   "execution_count": 8,
   "metadata": {},
   "outputs": [
    {
     "name": "stdout",
     "output_type": "stream",
     "text": [
      "                  Title   Price        Date\n",
      "0  Shipping and returns  199.99  2024-07-05\n"
     ]
    }
   ],
   "source": [
    "import pandas as pd\n",
    "df = pd.read_csv(r'C:\\Users\\Nickv\\Documents\\DataBootcamp\\Python\\Web Scraping\\EbayWeb.csv')\n",
    "print(df)"
   ]
  },
  {
   "cell_type": "code",
   "execution_count": 9,
   "metadata": {},
   "outputs": [],
   "source": [
    "with open('EbayWeb.csv', 'a+', newline='', encoding='UTF8') as f:\n",
    "    writer = csv.writer(f)\n",
    "    writer.writerow(data)"
   ]
  },
  {
   "cell_type": "code",
   "execution_count": 10,
   "metadata": {},
   "outputs": [],
   "source": [
    "def send_mail():\n",
    "    sender_email = 'nicktcks@gmail.com'\n",
    "    sender_password = 'yjdw tfem hohv xehn'\n",
    "\n",
    "    recipient_email = 'nicktcks@gmail.com'\n",
    "\n",
    "    subject = 'The Shoes you want is below $200! Now is your chance to buy!'\n",
    "    body = 'Nick, This is the moment we have been waiting for. Now is your cahnce to pick up the shirt of your dreams. Dont mess it up! Link here: https://www.ebay.com/itm/375489207530?itmmeta=01J0WSM7DGW3B615JC1VFBTD5Q&hash=item576ce69cea:g:IOwAAOSwk75mbz9I&amdata=enc%3AAQAJAAAA8DnfDLM9VqAWFnpLdAk1qW0Qg4PMGlIcVQzZXiU%2FijlF%2BrE%2B2T2V7eewbmwKdhFCpFkZDhdTBsRBzTQZbQHkLoRWr%2FbgEUmg42YRTPhFmaPspKjEpGQKZIXnBqbTnGCXPQVrjiDRq43xhiA2KrChXiq%2B%2Fno7ck2qEOd1xuk1gYOtjvPJvvTdlBvvUnPCU%2B3eQrxShvX1N78e%2B9FNEZzS76AvXTKaBB9afuR0ZLHyaqGaLfjWtJj2vzlcm7yzGIdZf6BelR8vkpkXIK%2BEs1ZWy8R9Bsd59N1jc2cGUTWKbYGeDpd5WQcxXCRzOIymolU6Kw%3D%3D%7Ctkp%3ABFBM9PbQmYdk'\n",
    "    msg = f'Subject: {subject}\\n\\n{body}'\n",
    "\n",
    "    try:\n",
    "        server = smtplib.SMTP_SSL('smtp.gmail.com', 465)\n",
    "        server.ehlo()\n",
    "        server.login(sender_email, sender_password)\n",
    "        server.sendmail(sender_email, recipient_email, msg)\n",
    "    except Exception as e:\n",
    "        print(f'Something went wrong... {e}')\n",
    "    finally:\n",
    "        server.quit()"
   ]
  },
  {
   "cell_type": "code",
   "execution_count": 11,
   "metadata": {},
   "outputs": [],
   "source": [
    "def check_price():\n",
    "    url = 'https://www.ebay.com/itm/375489207530?itmmeta=01J0WSM7DGW3B615JC1VFBTD5Q&hash=item576ce69cea:g:IOwAAOSwk75mbz9I&amdata=enc%3AAQAJAAAA8DnfDLM9VqAWFnpLdAk1qW0Qg4PMGlIcVQzZXiU%2FijlF%2BrE%2B2T2V7eewbmwKdhFCpFkZDhdTBsRBzTQZbQHkLoRWr%2FbgEUmg42YRTPhFmaPspKjEpGQKZIXnBqbTnGCXPQVrjiDRq43xhiA2KrChXiq%2B%2Fno7ck2qEOd1xuk1gYOtjvPJvvTdlBvvUnPCU%2B3eQrxShvX1N78e%2B9FNEZzS76AvXTKaBB9afuR0ZLHyaqGaLfjWtJj2vzlcm7yzGIdZf6BelR8vkpkXIK%2BEs1ZWy8R9Bsd59N1jc2cGUTWKbYGeDpd5WQcxXCRzOIymolU6Kw%3D%3D%7Ctkp%3ABFBM9PbQmYdk'\n",
    "    headers = {\"User-Agent\": \"Mozilla/5.0 (Windows NT 10.0; Win64; x64) AppleWebKit/537.36 (KHTML, like Gecko) Chrome/126.0.0.0 Safari/537.36\"}\n",
    "    page = requests.get(url, headers=headers)\n",
    "    soup1 = BeautifulSoup(page.content, 'html.parser')\n",
    "    soup2 = BeautifulSoup(soup1.prettify(), 'html.parser')\n",
    "\n",
    "    title = soup2.find('span', class_='ux-textspans ux-textspans--BOLD').get_text()\n",
    "\n",
    "    for element in soup2.find_all('span', class_='ux-textspans'):\n",
    "        if 'US $' in element.text:\n",
    "            price = element.text\n",
    "            break\n",
    "    else:\n",
    "        print('Price not found')\n",
    "\n",
    "    title = title.strip()\n",
    "    price = price.strip()[4:]\n",
    "\n",
    "    today = datetime.date.today()\n",
    "    \n",
    "    data = [title, price, today]\n",
    "\n",
    "    with open('EbayWeb.csv', 'a+', newline='', encoding='UTF8') as f:\n",
    "        writer = csv.writer(f)\n",
    "        writer.writerow(data)\n",
    "\n",
    "    if(float(price) < 200):\n",
    "        send_mail()"
   ]
  },
  {
   "cell_type": "code",
   "execution_count": 12,
   "metadata": {},
   "outputs": [
    {
     "ename": "KeyboardInterrupt",
     "evalue": "",
     "output_type": "error",
     "traceback": [
      "\u001b[1;31m---------------------------------------------------------------------------\u001b[0m",
      "\u001b[1;31mKeyboardInterrupt\u001b[0m                         Traceback (most recent call last)",
      "Cell \u001b[1;32mIn[12], line 2\u001b[0m\n\u001b[0;32m      1\u001b[0m \u001b[38;5;28;01mwhile\u001b[39;00m(\u001b[38;5;28;01mTrue\u001b[39;00m):\n\u001b[1;32m----> 2\u001b[0m     \u001b[43mcheck_price\u001b[49m\u001b[43m(\u001b[49m\u001b[43m)\u001b[49m\n\u001b[0;32m      3\u001b[0m     time\u001b[38;5;241m.\u001b[39msleep(\u001b[38;5;241m5\u001b[39m)\n",
      "Cell \u001b[1;32mIn[11], line 29\u001b[0m, in \u001b[0;36mcheck_price\u001b[1;34m()\u001b[0m\n\u001b[0;32m     26\u001b[0m     writer\u001b[38;5;241m.\u001b[39mwriterow(data)\n\u001b[0;32m     28\u001b[0m \u001b[38;5;28;01mif\u001b[39;00m(\u001b[38;5;28mfloat\u001b[39m(price) \u001b[38;5;241m<\u001b[39m \u001b[38;5;241m200\u001b[39m):\n\u001b[1;32m---> 29\u001b[0m     \u001b[43msend_mail\u001b[49m\u001b[43m(\u001b[49m\u001b[43m)\u001b[49m\n",
      "Cell \u001b[1;32mIn[10], line 15\u001b[0m, in \u001b[0;36msend_mail\u001b[1;34m()\u001b[0m\n\u001b[0;32m     13\u001b[0m     server\u001b[38;5;241m.\u001b[39mehlo()\n\u001b[0;32m     14\u001b[0m     server\u001b[38;5;241m.\u001b[39mlogin(sender_email, sender_password)\n\u001b[1;32m---> 15\u001b[0m     \u001b[43mserver\u001b[49m\u001b[38;5;241;43m.\u001b[39;49m\u001b[43msendmail\u001b[49m\u001b[43m(\u001b[49m\u001b[43msender_email\u001b[49m\u001b[43m,\u001b[49m\u001b[43m \u001b[49m\u001b[43mrecipient_email\u001b[49m\u001b[43m,\u001b[49m\u001b[43m \u001b[49m\u001b[43mmsg\u001b[49m\u001b[43m)\u001b[49m\n\u001b[0;32m     16\u001b[0m \u001b[38;5;28;01mexcept\u001b[39;00m \u001b[38;5;167;01mException\u001b[39;00m \u001b[38;5;28;01mas\u001b[39;00m e:\n\u001b[0;32m     17\u001b[0m     \u001b[38;5;28mprint\u001b[39m(\u001b[38;5;124mf\u001b[39m\u001b[38;5;124m'\u001b[39m\u001b[38;5;124mSomething went wrong... \u001b[39m\u001b[38;5;132;01m{\u001b[39;00me\u001b[38;5;132;01m}\u001b[39;00m\u001b[38;5;124m'\u001b[39m)\n",
      "File \u001b[1;32mc:\\Users\\Nickv\\AppData\\Local\\Programs\\Python\\Python311\\Lib\\smtplib.py:892\u001b[0m, in \u001b[0;36mSMTP.sendmail\u001b[1;34m(self, from_addr, to_addrs, msg, mail_options, rcpt_options)\u001b[0m\n\u001b[0;32m    890\u001b[0m     to_addrs \u001b[38;5;241m=\u001b[39m [to_addrs]\n\u001b[0;32m    891\u001b[0m \u001b[38;5;28;01mfor\u001b[39;00m each \u001b[38;5;129;01min\u001b[39;00m to_addrs:\n\u001b[1;32m--> 892\u001b[0m     (code, resp) \u001b[38;5;241m=\u001b[39m \u001b[38;5;28;43mself\u001b[39;49m\u001b[38;5;241;43m.\u001b[39;49m\u001b[43mrcpt\u001b[49m\u001b[43m(\u001b[49m\u001b[43meach\u001b[49m\u001b[43m,\u001b[49m\u001b[43m \u001b[49m\u001b[43mrcpt_options\u001b[49m\u001b[43m)\u001b[49m\n\u001b[0;32m    893\u001b[0m     \u001b[38;5;28;01mif\u001b[39;00m (code \u001b[38;5;241m!=\u001b[39m \u001b[38;5;241m250\u001b[39m) \u001b[38;5;129;01mand\u001b[39;00m (code \u001b[38;5;241m!=\u001b[39m \u001b[38;5;241m251\u001b[39m):\n\u001b[0;32m    894\u001b[0m         senderrs[each] \u001b[38;5;241m=\u001b[39m (code, resp)\n",
      "File \u001b[1;32mc:\\Users\\Nickv\\AppData\\Local\\Programs\\Python\\Python311\\Lib\\smtplib.py:554\u001b[0m, in \u001b[0;36mSMTP.rcpt\u001b[1;34m(self, recip, options)\u001b[0m\n\u001b[0;32m    552\u001b[0m     optionlist \u001b[38;5;241m=\u001b[39m \u001b[38;5;124m'\u001b[39m\u001b[38;5;124m \u001b[39m\u001b[38;5;124m'\u001b[39m \u001b[38;5;241m+\u001b[39m \u001b[38;5;124m'\u001b[39m\u001b[38;5;124m \u001b[39m\u001b[38;5;124m'\u001b[39m\u001b[38;5;241m.\u001b[39mjoin(options)\n\u001b[0;32m    553\u001b[0m \u001b[38;5;28mself\u001b[39m\u001b[38;5;241m.\u001b[39mputcmd(\u001b[38;5;124m\"\u001b[39m\u001b[38;5;124mrcpt\u001b[39m\u001b[38;5;124m\"\u001b[39m, \u001b[38;5;124m\"\u001b[39m\u001b[38;5;124mTO:\u001b[39m\u001b[38;5;132;01m%s\u001b[39;00m\u001b[38;5;132;01m%s\u001b[39;00m\u001b[38;5;124m\"\u001b[39m \u001b[38;5;241m%\u001b[39m (quoteaddr(recip), optionlist))\n\u001b[1;32m--> 554\u001b[0m \u001b[38;5;28;01mreturn\u001b[39;00m \u001b[38;5;28;43mself\u001b[39;49m\u001b[38;5;241;43m.\u001b[39;49m\u001b[43mgetreply\u001b[49m\u001b[43m(\u001b[49m\u001b[43m)\u001b[49m\n",
      "File \u001b[1;32mc:\\Users\\Nickv\\AppData\\Local\\Programs\\Python\\Python311\\Lib\\smtplib.py:398\u001b[0m, in \u001b[0;36mSMTP.getreply\u001b[1;34m(self)\u001b[0m\n\u001b[0;32m    396\u001b[0m \u001b[38;5;28;01mwhile\u001b[39;00m \u001b[38;5;241m1\u001b[39m:\n\u001b[0;32m    397\u001b[0m     \u001b[38;5;28;01mtry\u001b[39;00m:\n\u001b[1;32m--> 398\u001b[0m         line \u001b[38;5;241m=\u001b[39m \u001b[38;5;28mself\u001b[39m\u001b[38;5;241m.\u001b[39mfile\u001b[38;5;241m.\u001b[39mreadline(_MAXLINE \u001b[38;5;241m+\u001b[39m \u001b[38;5;241m1\u001b[39m)\n\u001b[0;32m    399\u001b[0m     \u001b[38;5;28;01mexcept\u001b[39;00m \u001b[38;5;167;01mOSError\u001b[39;00m \u001b[38;5;28;01mas\u001b[39;00m e:\n\u001b[0;32m    400\u001b[0m         \u001b[38;5;28mself\u001b[39m\u001b[38;5;241m.\u001b[39mclose()\n",
      "File \u001b[1;32mc:\\Users\\Nickv\\AppData\\Local\\Programs\\Python\\Python311\\Lib\\socket.py:705\u001b[0m, in \u001b[0;36mSocketIO.readinto\u001b[1;34m(self, b)\u001b[0m\n\u001b[0;32m    703\u001b[0m \u001b[38;5;28;01mwhile\u001b[39;00m \u001b[38;5;28;01mTrue\u001b[39;00m:\n\u001b[0;32m    704\u001b[0m     \u001b[38;5;28;01mtry\u001b[39;00m:\n\u001b[1;32m--> 705\u001b[0m         \u001b[38;5;28;01mreturn\u001b[39;00m \u001b[38;5;28;43mself\u001b[39;49m\u001b[38;5;241;43m.\u001b[39;49m\u001b[43m_sock\u001b[49m\u001b[38;5;241;43m.\u001b[39;49m\u001b[43mrecv_into\u001b[49m\u001b[43m(\u001b[49m\u001b[43mb\u001b[49m\u001b[43m)\u001b[49m\n\u001b[0;32m    706\u001b[0m     \u001b[38;5;28;01mexcept\u001b[39;00m timeout:\n\u001b[0;32m    707\u001b[0m         \u001b[38;5;28mself\u001b[39m\u001b[38;5;241m.\u001b[39m_timeout_occurred \u001b[38;5;241m=\u001b[39m \u001b[38;5;28;01mTrue\u001b[39;00m\n",
      "File \u001b[1;32mc:\\Users\\Nickv\\AppData\\Local\\Programs\\Python\\Python311\\Lib\\ssl.py:1278\u001b[0m, in \u001b[0;36mSSLSocket.recv_into\u001b[1;34m(self, buffer, nbytes, flags)\u001b[0m\n\u001b[0;32m   1274\u001b[0m     \u001b[38;5;28;01mif\u001b[39;00m flags \u001b[38;5;241m!=\u001b[39m \u001b[38;5;241m0\u001b[39m:\n\u001b[0;32m   1275\u001b[0m         \u001b[38;5;28;01mraise\u001b[39;00m \u001b[38;5;167;01mValueError\u001b[39;00m(\n\u001b[0;32m   1276\u001b[0m           \u001b[38;5;124m\"\u001b[39m\u001b[38;5;124mnon-zero flags not allowed in calls to recv_into() on \u001b[39m\u001b[38;5;132;01m%s\u001b[39;00m\u001b[38;5;124m\"\u001b[39m \u001b[38;5;241m%\u001b[39m\n\u001b[0;32m   1277\u001b[0m           \u001b[38;5;28mself\u001b[39m\u001b[38;5;241m.\u001b[39m\u001b[38;5;18m__class__\u001b[39m)\n\u001b[1;32m-> 1278\u001b[0m     \u001b[38;5;28;01mreturn\u001b[39;00m \u001b[38;5;28;43mself\u001b[39;49m\u001b[38;5;241;43m.\u001b[39;49m\u001b[43mread\u001b[49m\u001b[43m(\u001b[49m\u001b[43mnbytes\u001b[49m\u001b[43m,\u001b[49m\u001b[43m \u001b[49m\u001b[43mbuffer\u001b[49m\u001b[43m)\u001b[49m\n\u001b[0;32m   1279\u001b[0m \u001b[38;5;28;01melse\u001b[39;00m:\n\u001b[0;32m   1280\u001b[0m     \u001b[38;5;28;01mreturn\u001b[39;00m \u001b[38;5;28msuper\u001b[39m()\u001b[38;5;241m.\u001b[39mrecv_into(buffer, nbytes, flags)\n",
      "File \u001b[1;32mc:\\Users\\Nickv\\AppData\\Local\\Programs\\Python\\Python311\\Lib\\ssl.py:1134\u001b[0m, in \u001b[0;36mSSLSocket.read\u001b[1;34m(self, len, buffer)\u001b[0m\n\u001b[0;32m   1132\u001b[0m \u001b[38;5;28;01mtry\u001b[39;00m:\n\u001b[0;32m   1133\u001b[0m     \u001b[38;5;28;01mif\u001b[39;00m buffer \u001b[38;5;129;01mis\u001b[39;00m \u001b[38;5;129;01mnot\u001b[39;00m \u001b[38;5;28;01mNone\u001b[39;00m:\n\u001b[1;32m-> 1134\u001b[0m         \u001b[38;5;28;01mreturn\u001b[39;00m \u001b[38;5;28;43mself\u001b[39;49m\u001b[38;5;241;43m.\u001b[39;49m\u001b[43m_sslobj\u001b[49m\u001b[38;5;241;43m.\u001b[39;49m\u001b[43mread\u001b[49m\u001b[43m(\u001b[49m\u001b[38;5;28;43mlen\u001b[39;49m\u001b[43m,\u001b[49m\u001b[43m \u001b[49m\u001b[43mbuffer\u001b[49m\u001b[43m)\u001b[49m\n\u001b[0;32m   1135\u001b[0m     \u001b[38;5;28;01melse\u001b[39;00m:\n\u001b[0;32m   1136\u001b[0m         \u001b[38;5;28;01mreturn\u001b[39;00m \u001b[38;5;28mself\u001b[39m\u001b[38;5;241m.\u001b[39m_sslobj\u001b[38;5;241m.\u001b[39mread(\u001b[38;5;28mlen\u001b[39m)\n",
      "\u001b[1;31mKeyboardInterrupt\u001b[0m: "
     ]
    }
   ],
   "source": [
    "while(True):\n",
    "    check_price()\n",
    "    time.sleep(60)"
   ]
  },
  {
   "cell_type": "code",
   "execution_count": 13,
   "metadata": {},
   "outputs": [
    {
     "name": "stdout",
     "output_type": "stream",
     "text": [
      "                  Title   Price        Date\n",
      "0  Shipping and returns  199.99  2024-07-05\n",
      "1  Shipping and returns  199.99  2024-07-05\n",
      "2  Shipping and returns  199.99  2024-07-05\n",
      "3  Shipping and returns  199.99  2024-07-05\n",
      "4  Shipping and returns  199.99  2024-07-05\n",
      "5  Shipping and returns  199.99  2024-07-05\n"
     ]
    }
   ],
   "source": [
    "df = pd.read_csv(r'C:\\Users\\Nickv\\Documents\\DataBootcamp\\Python\\Web Scraping\\EbayWeb.csv')\n",
    "print(df)"
   ]
  }
 ],
 "metadata": {
  "kernelspec": {
   "display_name": "Python 3",
   "language": "python",
   "name": "python3"
  },
  "language_info": {
   "codemirror_mode": {
    "name": "ipython",
    "version": 3
   },
   "file_extension": ".py",
   "mimetype": "text/x-python",
   "name": "python",
   "nbconvert_exporter": "python",
   "pygments_lexer": "ipython3",
   "version": "3.11.0"
  }
 },
 "nbformat": 4,
 "nbformat_minor": 2
}
